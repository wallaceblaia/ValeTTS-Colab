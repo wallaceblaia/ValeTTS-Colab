{
  "cells": [
    {
      "cell_type": "raw",
      "metadata": {
        "vscode": {
          "languageId": "raw"
        }
      },
      "source": [
        "# 🚀 ValeTTS - Setup Google Colab Pro\n",
        "\n",
        "## 📋 Este notebook configura todo o ambiente necessário\n",
        "\n",
        "### ✅ **O que este setup faz:**\n",
        "- Instala dependências\n",
        "- Conecta ao Google Drive\n",
        "- Clona código do GitHub\n",
        "- Configura GPU otimizada\n",
        "- Prepara datasets\n",
        "- Testa ambiente\n"
      ]
    },
    {
      "cell_type": "raw",
      "metadata": {
        "vscode": {
          "languageId": "raw"
        }
      },
      "source": [
        "## 🔧 **1. Verificar GPU e Recursos**\n"
      ]
    },
    {
      "cell_type": "code",
      "execution_count": null,
      "metadata": {},
      "outputs": [],
      "source": [
        "# Verificar GPU disponível\n",
        "!nvidia-smi\n",
        "\n",
        "# Verificar recursos\n",
        "import psutil\n",
        "import torch\n",
        "\n",
        "print(f\"🔥 GPU: {torch.cuda.get_device_name(0) if torch.cuda.is_available() else 'CPU only'}\")\n",
        "print(f\"💾 GPU Memory: {torch.cuda.get_device_properties(0).total_memory / 1e9:.1f} GB\")\n",
        "print(f\"🧠 System RAM: {psutil.virtual_memory().total / 1e9:.1f} GB\")\n",
        "print(f\"💽 Disk Space: {psutil.disk_usage('/').free / 1e9:.1f} GB free\")\n"
      ]
    }
  ],
  "metadata": {
    "language_info": {
      "name": "python"
    }
  },
  "nbformat": 4,
  "nbformat_minor": 2
}
