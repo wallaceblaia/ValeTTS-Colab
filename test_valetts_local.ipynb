{
  "cells": [
    {
      "cell_type": "raw",
      "metadata": {
        "vscode": {
          "languageId": "raw"
        }
      },
      "source": [
        "# 🧪 Teste Local ValeTTS\n",
        "## Validação do Sistema Antes da Migração para Colab\n",
        "\n",
        "Este notebook testa o sistema ValeTTS localmente antes da implementação no Google Colab.\n"
      ]
    },
    {
      "cell_type": "code",
      "execution_count": 2,
      "metadata": {},
      "outputs": [
        {
          "name": "stdout",
          "output_type": "stream",
          "text": [
            "🚀 Iniciando Teste Local ValeTTS\n",
            "==================================================\n",
            "📍 Diretório atual: /home/wallace/proj/ValeTTS\n",
            "🐍 Python: 3.12.2 | packaged by conda-forge | (main, Feb 16 2024, 20:50:58) [GCC 12.3.0]\n",
            "🔥 PyTorch: 2.7.1+cu126\n",
            "🔥 CUDA disponível: True\n",
            "🔥 GPU: NVIDIA GeForce RTX 4090\n",
            "🔥 VRAM: 25.8 GB\n",
            "\n",
            "✅ Setup inicial concluído!\n"
          ]
        }
      ],
      "source": [
        "# === SETUP INICIAL ===\n",
        "print(\"🚀 Iniciando Teste Local ValeTTS\")\n",
        "print(\"=\" * 50)\n",
        "\n",
        "import os\n",
        "import sys\n",
        "import torch\n",
        "import logging\n",
        "from datetime import datetime\n",
        "\n",
        "# Verificar ambiente\n",
        "print(f\"📍 Diretório atual: {os.getcwd()}\")\n",
        "print(f\"🐍 Python: {sys.version}\")\n",
        "print(f\"🔥 PyTorch: {torch.__version__}\")\n",
        "print(f\"🔥 CUDA disponível: {torch.cuda.is_available()}\")\n",
        "if torch.cuda.is_available():\n",
        "    print(f\"🔥 GPU: {torch.cuda.get_device_name()}\")\n",
        "    print(f\"🔥 VRAM: {torch.cuda.get_device_properties(0).total_memory / 1e9:.1f} GB\")\n",
        "\n",
        "# Configurar logging\n",
        "logging.basicConfig(level=logging.INFO)\n",
        "logger = logging.getLogger(__name__)\n",
        "\n",
        "print(\"\\n✅ Setup inicial concluído!\")\n"
      ]
    },
    {
      "cell_type": "code",
      "execution_count": 3,
      "metadata": {},
      "outputs": [
        {
          "name": "stdout",
          "output_type": "stream",
          "text": [
            "📦 Testando importações do ValeTTS...\n",
            "❌ Erro de importação: No module named 'valetts.inference.synthesizers.tts'\n",
            "💡 Verificar se o módulo valetts está instalado corretamente\n"
          ]
        }
      ],
      "source": [
        "# === TESTE DE IMPORTAÇÕES ===\n",
        "print(\"📦 Testando importações do ValeTTS...\")\n",
        "\n",
        "try:\n",
        "    # Importações principais\n",
        "    import valetts\n",
        "    print(f\"✅ valetts v{valetts.__version__}\")\n",
        "\n",
        "    from valetts.inference.synthesizers import TTSSynthesizer\n",
        "    print(\"✅ TTSSynthesizer\")\n",
        "\n",
        "    from valetts.inference.voice_cloning import VoiceCloner\n",
        "    print(\"✅ VoiceCloner\")\n",
        "\n",
        "    from valetts.models.vits2 import VITS2\n",
        "    print(\"✅ VITS2\")\n",
        "\n",
        "    from valetts.utils.audio import AudioProcessor\n",
        "    print(\"✅ AudioProcessor\")\n",
        "\n",
        "    from valetts.utils.text import TextProcessor\n",
        "    print(\"✅ TextProcessor\")\n",
        "\n",
        "    print(\"\\n🎯 Todas as importações funcionaram!\")\n",
        "\n",
        "except ImportError as e:\n",
        "    print(f\"❌ Erro de importação: {e}\")\n",
        "    print(\"💡 Verificar se o módulo valetts está instalado corretamente\")\n"
      ]
    },
    {
      "cell_type": "raw",
      "metadata": {},
      "source": []
    },
    {
      "cell_type": "raw",
      "metadata": {},
      "source": []
    },
    {
      "cell_type": "raw",
      "metadata": {},
      "source": []
    },
    {
      "cell_type": "code",
      "execution_count": null,
      "metadata": {},
      "outputs": [],
      "source": [
        "# === TESTE DE DEPENDÊNCIAS ===\n",
        "print(\"📋 Verificando dependências críticas...\")\n",
        "\n",
        "dependencias = [\n",
        "    'torch', 'torchaudio', 'pytorch_lightning',\n",
        "    'librosa', 'soundfile', 'numpy', 'scipy',\n",
        "    'matplotlib', 'tensorboard', 'transformers'\n",
        "]\n",
        "\n",
        "for dep in dependencias:\n",
        "    try:\n",
        "        module = __import__(dep)\n",
        "        version = getattr(module, '__version__', 'N/A')\n",
        "        print(f\"✅ {dep}: {version}\")\n",
        "    except ImportError:\n",
        "        print(f\"❌ {dep}: NÃO ENCONTRADO\")\n",
        "\n",
        "print(\"\\n📊 Verificação de dependências concluída!\")\n"
      ]
    }
  ],
  "metadata": {
    "kernelspec": {
      "display_name": ".venv",
      "language": "python",
      "name": "python3"
    },
    "language_info": {
      "codemirror_mode": {
        "name": "ipython",
        "version": 3
      },
      "file_extension": ".py",
      "mimetype": "text/x-python",
      "name": "python",
      "nbconvert_exporter": "python",
      "pygments_lexer": "ipython3",
      "version": "3.12.2"
    }
  },
  "nbformat": 4,
  "nbformat_minor": 2
}
