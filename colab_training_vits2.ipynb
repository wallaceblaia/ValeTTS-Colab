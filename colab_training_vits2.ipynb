{
  "cells": [
    {
      "cell_type": "raw",
      "metadata": {
        "vscode": {
          "languageId": "raw"
        }
      },
      "source": [
        "# 🎙️ ValeTTS - Treinamento VITS2 no Google Colab\n",
        "\n",
        "**Sistema de TTS com arquitetura híbrida: VITS2 + Meta-Learning + BigVGAN-v2 + Controle Prosódico**\n",
        "\n",
        "[![Open In Colab](https://colab.research.google.com/assets/colab-badge.svg)](https://colab.research.google.com/github/wallaceblaia/ValeTTS-Colab/blob/main/colab_training_vits2.ipynb)\n",
        "\n",
        "Este notebook executa o **exato mesmo sistema** que roda localmente com:\n",
        "```bash\n",
        "python scripts/train_vits2.py --config configs/training/vits2_dataset_unificado.yaml\n",
        "```\n",
        "\n",
        "**📋 Pré-requisitos:**\n",
        "- Dataset compactado em: `MeuDrive/ValeTTS-Colab/Dataset-Unificado.tar.gz`\n",
        "- API OpenRouter (opcional, para monitor LLM)\n",
        "\n",
        "---\n",
        "\n",
        "## 📋 Configuração Inicial\n"
      ]
    },
    {
      "cell_type": "raw",
      "metadata": {
        "vscode": {
          "languageId": "raw"
        }
      },
      "source": [
        "### 🔑 Configuração da API OpenRouter (para Monitor LLM)\n",
        "\n",
        "**Opcional**: Para ativar o monitoramento inteligente LLM durante o treinamento\n"
      ]
    },
    {
      "cell_type": "code",
      "execution_count": null,
      "metadata": {},
      "outputs": [],
      "source": [
        "# 🔑 Configure sua API Key da OpenRouter (opcional)\n",
        "# Se não configurar, o sistema funcionará sem monitoramento LLM\n",
        "\n",
        "OPENROUTER_API_KEY = \"\"  # @param {type:\"string\"}\n",
        "\n",
        "# Configurar como variável de ambiente se fornecida\n",
        "import os\n",
        "if OPENROUTER_API_KEY.strip():\n",
        "    os.environ['OPENROUTER_API_KEY'] = OPENROUTER_API_KEY\n",
        "    print(\"✅ API Key OpenRouter configurada - Monitor LLM ativado\")\n",
        "else:\n",
        "    print(\"⚠️  API Key não configurada - Monitor LLM desabilitado\")\n",
        "    print(\"   O treinamento funcionará normalmente sem monitoramento inteligente\")\n"
      ]
    },
    {
      "cell_type": "raw",
      "metadata": {
        "vscode": {
          "languageId": "raw"
        }
      },
      "source": [
        "### 🚀 Setup do Ambiente\n"
      ]
    },
    {
      "cell_type": "code",
      "execution_count": null,
      "metadata": {},
      "outputs": [],
      "source": [
        "# Verificar GPU disponível\n",
        "!nvidia-smi\n",
        "\n",
        "# Conectar ao Google Drive\n",
        "from google.colab import drive\n",
        "drive.mount('/content/drive')\n",
        "\n",
        "# Navegar para diretório de trabalho\n",
        "%cd /content\n"
      ]
    },
    {
      "cell_type": "raw",
      "metadata": {
        "vscode": {
          "languageId": "raw"
        }
      },
      "source": [
        "### 📁 Clonagem do Repositório\n"
      ]
    },
    {
      "cell_type": "code",
      "execution_count": null,
      "metadata": {},
      "outputs": [],
      "source": [
        "# Clone do repositório ValeTTS atualizado\n",
        "!git clone https://github.com/wallaceblaia/ValeTTS-Colab.git ValeTTS\n",
        "%cd ValeTTS\n",
        "\n",
        "# Verificar estrutura do projeto\n",
        "print(\"📁 Estrutura do projeto:\")\n",
        "!ls -la\n",
        "\n",
        "# Verificar se os arquivos necessários existem\n",
        "print(\"\\n🔍 Verificando arquivos essenciais:\")\n",
        "!ls -la requirements.txt setup.py 2>/dev/null || echo \"❌ Arquivos não encontrados\"\n",
        "print(\"📁 Diretório atual:\", os.getcwd())\n"
      ]
    },
    {
      "cell_type": "raw",
      "metadata": {
        "vscode": {
          "languageId": "raw"
        }
      },
      "source": [
        "### 📦 Instalação de Dependências\n"
      ]
    },
    {
      "cell_type": "code",
      "execution_count": null,
      "metadata": {},
      "outputs": [],
      "source": [
        "# Verificar se estamos no diretório correto\n",
        "import os\n",
        "print(f\"📁 Diretório atual: {os.getcwd()}\")\n",
        "\n",
        "# Verificar se os arquivos existem\n",
        "if os.path.exists('requirements.txt'):\n",
        "    print(\"📦 Instalando dependências do projeto...\")\n",
        "    !pip install -r requirements.txt\n",
        "else:\n",
        "    print(\"⚠️  requirements.txt não encontrado, instalando dependências básicas...\")\n",
        "    !pip install torch torchaudio pytorch-lightning tensorboard pyyaml matplotlib scipy librosa\n",
        "\n",
        "# Instalar o projeto em modo desenvolvimento (se setup.py existir)\n",
        "if os.path.exists('setup.py'):\n",
        "    print(\"🔧 Instalando projeto em modo desenvolvimento...\")\n",
        "    !pip install -e .\n",
        "else:\n",
        "    print(\"⚠️  setup.py não encontrado, pulando instalação do projeto\")\n",
        "    # Adicionar diretório atual ao PYTHONPATH\n",
        "    import sys\n",
        "    if os.getcwd() not in sys.path:\n",
        "        sys.path.insert(0, os.getcwd())\n",
        "\n",
        "print(\"✅ Dependências instaladas com sucesso!\")\n"
      ]
    },
    {
      "cell_type": "raw",
      "metadata": {
        "vscode": {
          "languageId": "raw"
        }
      },
      "source": [
        "### 📊 Restauração do Dataset\n"
      ]
    },
    {
      "cell_type": "code",
      "execution_count": null,
      "metadata": {},
      "outputs": [],
      "source": [
        "# Criar diretório de dados\n",
        "!mkdir -p data/generated\n",
        "\n",
        "# Extrair dataset do Google Drive\n",
        "import os\n",
        "dataset_path = \"/content/drive/MyDrive/ValeTTS-Colab/Dataset-Unificado.tar.gz\"\n",
        "\n",
        "if os.path.exists(dataset_path):\n",
        "    print(\"📦 Extraindo dataset...\")\n",
        "    !tar -xzf \"/content/drive/MyDrive/ValeTTS-Colab/Dataset-Unificado.tar.gz\" -C data/generated/\n",
        "\n",
        "    # Verificar extração\n",
        "    print(\"\\n📁 Conteúdo do dataset:\")\n",
        "    !ls -la data/generated/Dataset-Unificado/\n",
        "\n",
        "    # Verificar metadados\n",
        "    print(\"\\n📋 Arquivos de metadados:\")\n",
        "    !find data/generated/Dataset-Unificado/ -name \"*.json\" -o -name \"*.csv\" | head -5\n",
        "\n",
        "    print(\"\\n✅ Dataset restaurado com sucesso!\")\n",
        "else:\n",
        "    print(f\"❌ Dataset não encontrado em: {dataset_path}\")\n",
        "    print(\"   Verifique se o arquivo existe no Google Drive\")\n"
      ]
    },
    {
      "cell_type": "raw",
      "metadata": {
        "vscode": {
          "languageId": "raw"
        }
      },
      "source": [
        "### 🧪 Verificação e Teste do Sistema\n"
      ]
    },
    {
      "cell_type": "code",
      "execution_count": null,
      "metadata": {},
      "outputs": [],
      "source": [
        "# Verificação completa do sistema\n",
        "import os\n",
        "\n",
        "print(\"🔍 Verificação completa do sistema:\")\n",
        "print(f\"📁 Diretório atual: {os.getcwd()}\")\n",
        "\n",
        "# Verificar estrutura essencial\n",
        "essential_files = [\n",
        "    'scripts/train_vits2.py',\n",
        "    'configs/training/vits2_dataset_unificado.yaml',\n",
        "    'valetts/__init__.py'\n",
        "]\n",
        "\n",
        "print(\"\\n📋 Verificando arquivos essenciais:\")\n",
        "for file in essential_files:\n",
        "    if os.path.exists(file):\n",
        "        print(f\"✅ {file}\")\n",
        "    else:\n",
        "        print(f\"❌ {file} - FALTANDO\")\n",
        "\n",
        "# Verificar se o módulo valetts pode ser importado\n",
        "try:\n",
        "    import valetts\n",
        "    print(\"✅ Módulo valetts importado com sucesso\")\n",
        "except ImportError as e:\n",
        "    print(f\"⚠️  Erro ao importar valetts: {e}\")\n",
        "    print(\"   Adicionando diretório ao PYTHONPATH...\")\n",
        "    import sys\n",
        "    if os.getcwd() not in sys.path:\n",
        "        sys.path.insert(0, os.getcwd())\n",
        "    try:\n",
        "        import valetts\n",
        "        print(\"✅ Módulo valetts importado após ajuste do PATH\")\n",
        "    except ImportError as e2:\n",
        "        print(f\"❌ Ainda não conseguiu importar: {e2}\")\n",
        "\n",
        "# Testar script de treinamento\n",
        "if os.path.exists('scripts/train_vits2.py'):\n",
        "    print(\"\\n🧪 Testando sistema de treinamento...\")\n",
        "    !python scripts/train_vits2.py --help\n",
        "    print(\"\\n✅ Sistema funcionando corretamente!\")\n",
        "else:\n",
        "    print(\"\\n❌ Script de treinamento não encontrado!\")\n",
        "    print(\"   Listando conteúdo do diretório scripts:\")\n",
        "    !ls -la scripts/ 2>/dev/null || echo \"Diretório scripts não encontrado\"\n"
      ]
    },
    {
      "cell_type": "raw",
      "metadata": {
        "vscode": {
          "languageId": "raw"
        }
      },
      "source": [
        "---\n",
        "\n",
        "## 🎯 Treinamento VITS2\n",
        "\n",
        "**Execução do exato mesmo comando local:**\n",
        "```bash\n",
        "python scripts/train_vits2.py --config configs/training/vits2_dataset_unificado.yaml\n",
        "```\n"
      ]
    },
    {
      "cell_type": "raw",
      "metadata": {
        "vscode": {
          "languageId": "raw"
        }
      },
      "source": [
        "### 📋 Revisão da Configuração\n"
      ]
    },
    {
      "cell_type": "code",
      "execution_count": null,
      "metadata": {},
      "outputs": [],
      "source": [
        "# Mostrar configuração que será usada\n",
        "import yaml\n",
        "\n",
        "with open('configs/training/vits2_dataset_unificado.yaml', 'r') as f:\n",
        "    config = yaml.safe_load(f)\n",
        "\n",
        "print(\"📋 Configuração do Treinamento:\")\n",
        "print(f\"   • Dataset: {config['data']['dataset_path']}\")\n",
        "print(f\"   • Speakers: {config['model']['num_speakers']}\")\n",
        "print(f\"   • Epochs: {config['training']['epochs']}\")\n",
        "print(f\"   • Batch Size: {config['training']['batch_size']}\")\n",
        "print(f\"   • Learning Rate: {config['training']['learning_rate']}\")\n",
        "print(f\"   • Mixed Precision: {config['training']['mixed_precision']}\")\n",
        "\n",
        "if 'llm_monitor' in config:\n",
        "    print(f\"   • Monitor LLM: {config['llm_monitor'].get('enabled', False)}\")\n",
        "\n",
        "print(\"\\n🎯 Configuração carregada com sucesso!\")\n"
      ]
    },
    {
      "cell_type": "raw",
      "metadata": {
        "vscode": {
          "languageId": "raw"
        }
      },
      "source": [
        "### 🚀 Iniciar Treinamento\n"
      ]
    },
    {
      "cell_type": "code",
      "execution_count": null,
      "metadata": {},
      "outputs": [],
      "source": [
        "# 🎯 COMANDO EXATO DO AMBIENTE LOCAL\n",
        "# python scripts/train_vits2.py --config configs/training/vits2_dataset_unificado.yaml\n",
        "\n",
        "import os\n",
        "\n",
        "# Determinar se deve desabilitar LLM baseado na API key\n",
        "disable_llm = \"\" if os.environ.get('OPENROUTER_API_KEY') else \"--disable-llm\"\n",
        "\n",
        "print(\"🚀 Iniciando treinamento VITS2...\")\n",
        "print(f\"📁 Configuração: configs/training/vits2_dataset_unificado.yaml\")\n",
        "print(f\"🔧 Monitor LLM: {'Ativado' if not disable_llm else 'Desabilitado'}\")\n",
        "print(\"\\n\" + \"=\"*50)\n",
        "\n",
        "# Executar treinamento\n",
        "!python scripts/train_vits2.py --config configs/training/vits2_dataset_unificado.yaml {disable_llm}\n"
      ]
    },
    {
      "cell_type": "raw",
      "metadata": {
        "vscode": {
          "languageId": "raw"
        }
      },
      "source": [
        "---\n",
        "\n",
        "## 📊 Monitoramento do Treinamento\n",
        "\n",
        "### 📈 TensorBoard\n"
      ]
    },
    {
      "cell_type": "code",
      "execution_count": null,
      "metadata": {},
      "outputs": [],
      "source": [
        "# Carregar TensorBoard para monitoramento\n",
        "%load_ext tensorboard\n",
        "%tensorboard --logdir logs/tensorboard/ --port 6006\n"
      ]
    },
    {
      "cell_type": "raw",
      "metadata": {
        "vscode": {
          "languageId": "raw"
        }
      },
      "source": [
        "### 🛠️ Utilitários\n"
      ]
    },
    {
      "cell_type": "code",
      "execution_count": null,
      "metadata": {},
      "outputs": [],
      "source": [
        "# Verificar progresso do treinamento\n",
        "print(\"📊 Status do Treinamento:\")\n",
        "!ls -la logs/\n",
        "\n",
        "print(\"\\n📁 Checkpoints:\")\n",
        "!find logs/ -name \"*.ckpt\" | tail -5\n",
        "\n",
        "print(\"\\n📈 Logs mais recentes:\")\n",
        "!tail -10 logs/training.log 2>/dev/null || echo \"Log não encontrado ainda\"\n"
      ]
    },
    {
      "cell_type": "code",
      "execution_count": null,
      "metadata": {},
      "outputs": [],
      "source": [
        "# Backup de modelos para Google Drive\n",
        "import os\n",
        "from shutil import copytree, ignore_patterns\n",
        "\n",
        "backup_dir = \"/content/drive/MyDrive/ValeTTS-Colab/training_backup\"\n",
        "\n",
        "if os.path.exists(\"logs/\"):\n",
        "    print(\"💾 Fazendo backup dos logs e checkpoints...\")\n",
        "    !mkdir -p \"{backup_dir}\"\n",
        "    !cp -r logs/ \"{backup_dir}/\" 2>/dev/null || echo \"Backup parcial realizado\"\n",
        "    print(f\"✅ Backup salvo em: {backup_dir}\")\n",
        "else:\n",
        "    print(\"ℹ️  Nenhum log encontrado para backup\")\n"
      ]
    },
    {
      "cell_type": "raw",
      "metadata": {
        "vscode": {
          "languageId": "raw"
        }
      },
      "source": [
        "---\n",
        "\n",
        "## ℹ️ Informações Importantes\n",
        "\n",
        "### 🎯 Performance Esperada no Colab:\n",
        "- **T4 GPU**: ~1-2 it/s (25-50x mais rápido que CPU local)\n",
        "- **P100 GPU**: ~2-3 it/s (50-75x mais rápido)\n",
        "- **V100 GPU**: ~3-5 it/s (75-125x mais rápido)\n",
        "- **A100 GPU**: ~5-8 it/s (125-200x mais rápido)\n",
        "\n",
        "### 📋 Configuração Atual:\n",
        "- **Dataset**: Dataset-Unificado (~2.5GB, ~23K samples)\n",
        "- **Modelo**: VITS2 multi-speaker (52 speakers)\n",
        "- **Épocas**: 200 epochs\n",
        "- **Batch Size**: 12\n",
        "- **Mixed Precision**: Ativado\n",
        "\n",
        "### 🔧 Monitor LLM:\n",
        "- **Análise inteligente**: A cada 5 épocas\n",
        "- **Ajustes automáticos**: Learning rate, batch size\n",
        "- **Aprovação humana**: Para mudanças críticas\n",
        "\n",
        "### 💾 Backups Automáticos:\n",
        "- Logs salvos em: `MeuDrive/ValeTTS-Colab/training_backup/`\n",
        "- Checkpoints preservados automaticamente\n",
        "- Configuração dinâmica salva\n",
        "\n",
        "---\n",
        "\n",
        "**🎉 Sistema 100% idêntico ao ambiente local - Pronto para produção!**\n"
      ]
    },
    {
      "cell_type": "raw",
      "metadata": {},
      "source": []
    }
  ],
  "metadata": {
    "language_info": {
      "name": "python"
    }
  },
  "nbformat": 4,
  "nbformat_minor": 2
}
