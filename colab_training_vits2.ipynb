{
  "cells": [
    {
      "cell_type": "raw",
      "metadata": {
        "vscode": {
          "languageId": "raw"
        }
      },
      "source": [
        "# 🎙️ ValeTTS - Treinamento VITS2 no Google Colab\n",
        "\n",
        "**Sistema de TTS com arquitetura híbrida: VITS2 + Meta-Learning + BigVGAN-v2 + Controle Prosódico**\n",
        "\n",
        "[![Open In Colab](https://colab.research.google.com/assets/colab-badge.svg)](https://colab.research.google.com/github/wallaceblaia/ValeTTS-Colab/blob/main/colab_training_vits2.ipynb)\n",
        "\n",
        "Este notebook executa o **exato mesmo sistema** que roda localmente com:\n",
        "```bash\n",
        "python scripts/train_vits2.py --config configs/training/vits2_dataset_unificado.yaml\n",
        "```\n",
        "\n",
        "**📋 Pré-requisitos:**\n",
        "- Dataset compactado em: `MeuDrive/ValeTTS-Colab/Dataset-Unificado.tar.gz`\n",
        "- API OpenRouter (opcional, para monitor LLM)\n",
        "\n",
        "---\n",
        "\n",
        "## 📋 Configuração Inicial\n"
      ]
    },
    {
      "cell_type": "raw",
      "metadata": {
        "vscode": {
          "languageId": "raw"
        }
      },
      "source": [
        "### 🔑 Configuração da API OpenRouter (para Monitor LLM)\n",
        "\n",
        "**Opcional**: Para ativar o monitoramento inteligente LLM durante o treinamento\n"
      ]
    },
    {
      "cell_type": "code",
      "execution_count": null,
      "metadata": {},
      "outputs": [],
      "source": [
        "# 🔑 Configure sua API Key da OpenRouter (opcional)\n",
        "# Se não configurar, o sistema funcionará sem monitoramento LLM\n",
        "\n",
        "OPENROUTER_API_KEY = \"\"  # @param {type:\"string\"}\n",
        "\n",
        "# Configurar como variável de ambiente se fornecida\n",
        "import os\n",
        "if OPENROUTER_API_KEY.strip():\n",
        "    os.environ['OPENROUTER_API_KEY'] = OPENROUTER_API_KEY\n",
        "    print(\"✅ API Key OpenRouter configurada - Monitor LLM ativado\")\n",
        "else:\n",
        "    print(\"⚠️  API Key não configurada - Monitor LLM desabilitado\")\n",
        "    print(\"   O treinamento funcionará normalmente sem monitoramento inteligente\")\n"
      ]
    },
    {
      "cell_type": "raw",
      "metadata": {
        "vscode": {
          "languageId": "raw"
        }
      },
      "source": [
        "### 🚀 Setup do Ambiente\n"
      ]
    },
    {
      "cell_type": "code",
      "execution_count": null,
      "metadata": {},
      "outputs": [],
      "source": [
        "# Verificar GPU disponível\n",
        "!nvidia-smi\n",
        "\n",
        "# Conectar ao Google Drive\n",
        "from google.colab import drive\n",
        "drive.mount('/content/drive')\n",
        "\n",
        "# Navegar para diretório de trabalho\n",
        "%cd /content\n"
      ]
    },
    {
      "cell_type": "raw",
      "metadata": {
        "vscode": {
          "languageId": "raw"
        }
      },
      "source": [
        "### 📁 Clonagem do Repositório\n"
      ]
    },
    {
      "cell_type": "code",
      "execution_count": null,
      "metadata": {},
      "outputs": [],
      "source": [
        "# Clone do repositório ValeTTS atualizado\n",
        "!git clone https://github.com/wallaceblaia/ValeTTS-Colab.git ValeTTS\n",
        "%cd ValeTTS\n",
        "\n",
        "# Verificar estrutura do projeto\n",
        "print(\"📁 Estrutura do projeto:\")\n",
        "!ls -la\n",
        "\n",
        "# Verificar se os arquivos necessários existem\n",
        "print(\"\\n🔍 Verificando arquivos essenciais:\")\n",
        "!ls -la requirements.txt setup.py 2>/dev/null || echo \"❌ Arquivos não encontrados\"\n",
        "print(\"📁 Diretório atual:\", os.getcwd())\n"
      ]
    },
    {
      "cell_type": "raw",
      "metadata": {
        "vscode": {
          "languageId": "raw"
        }
      },
      "source": [
        "### 📦 Instalação de Dependências\n"
      ]
    },
    {
      "cell_type": "code",
      "execution_count": null,
      "metadata": {},
      "outputs": [],
      "source": [
        "# 📦 INSTALAÇÃO COMPLETA DE DEPENDÊNCIAS (INGLÊS + PORTUGUÊS)\n",
        "import os\n",
        "print(f\"📁 Diretório atual: {os.getcwd()}\")\n",
        "\n",
        "# Dependências core do projeto\n",
        "if os.path.exists('requirements.txt'):\n",
        "    print(\"📦 Instalando dependências do projeto...\")\n",
        "    !pip install -r requirements.txt\n",
        "else:\n",
        "    print(\"⚠️  requirements.txt não encontrado, instalando dependências básicas...\")\n",
        "    !pip install torch torchaudio pytorch-lightning tensorboard pyyaml matplotlib scipy librosa\n",
        "\n",
        "# 🌍 DEPENDÊNCIAS ESPECÍFICAS PARA PROCESSAMENTO DE INGLÊS\n",
        "print(\"\\n🌍 Instalando suporte específico para inglês...\")\n",
        "\n",
        "# Phonemizer para conversão texto-para-phonemes em inglês\n",
        "print(\"🔤 Instalando phonemizer...\")\n",
        "!pip install phonemizer --quiet\n",
        "\n",
        "# NLTK para processamento avançado de texto\n",
        "print(\"📝 Instalando NLTK...\")\n",
        "!pip install nltk --quiet\n",
        "\n",
        "# eSpeak backend para phonemizer (necessário para inglês)\n",
        "print(\"🔊 Configurando eSpeak para phonemes ingleses...\")\n",
        "!sudo apt-get update -qq\n",
        "!sudo apt-get install espeak espeak-data -y -qq\n",
        "\n",
        "# Lightning para treinamento (versão mais recente)\n",
        "print(\"⚡ Atualizando PyTorch Lightning...\")\n",
        "!pip install lightning --quiet\n",
        "\n",
        "print(\"\\n🧪 Testando phonemizer...\")\n",
        "try:\n",
        "    from phonemizer import phonemize\n",
        "    test_phonemes = phonemize(\"hello world\", language='en-us', backend='espeak')\n",
        "    print(f\"✅ Phonemizer funcionando: '{test_phonemes}'\")\n",
        "except Exception as e:\n",
        "    print(f\"⚠️  Erro no phonemizer: {e}\")\n",
        "\n",
        "# Instalar o projeto em modo desenvolvimento\n",
        "if os.path.exists('setup.py'):\n",
        "    print(\"\\n🔧 Instalando projeto em modo desenvolvimento...\")\n",
        "    !pip install -e .\n",
        "else:\n",
        "    print(\"\\n⚠️  setup.py não encontrado, configurando PYTHONPATH...\")\n",
        "    import sys\n",
        "    if os.getcwd() not in sys.path:\n",
        "        sys.path.insert(0, os.getcwd())\n",
        "\n",
        "print(\"\\n✅ TODAS AS DEPENDÊNCIAS INSTALADAS!\")\n",
        "print(\"   🔤 Phonemizer: Conversão G2P para inglês\")\n",
        "print(\"   📝 NLTK: Processamento de texto avançado\")\n",
        "print(\"   🔊 eSpeak: Backend para phonemes ingleses\")\n",
        "print(\"   ⚡ Lightning: Treinamento otimizado\")\n"
      ]
    },
    {
      "cell_type": "raw",
      "metadata": {
        "vscode": {
          "languageId": "raw"
        }
      },
      "source": [
        "### 📊 Restauração do Dataset\n"
      ]
    },
    {
      "cell_type": "code",
      "execution_count": null,
      "metadata": {},
      "outputs": [],
      "source": [
        "# Criar diretório de dados\n",
        "!mkdir -p data/generated\n",
        "\n",
        "# Extrair dataset do Google Drive\n",
        "import os\n",
        "dataset_path = \"/content/drive/MyDrive/ValeTTS-Colab/Dataset-Unificado.tar.gz\"\n",
        "\n",
        "if os.path.exists(dataset_path):\n",
        "    print(\"📦 Extraindo dataset em inglês...\")\n",
        "    !tar -xzf \"/content/drive/MyDrive/ValeTTS-Colab/Dataset-Unificado.tar.gz\" -C data/generated/\n",
        "\n",
        "    # Verificar extração\n",
        "    print(\"\\n📁 Conteúdo do dataset:\")\n",
        "    !ls -la data/generated/Dataset-Unificado/\n",
        "\n",
        "    # Verificar metadados e idioma\n",
        "    print(\"\\n📋 Verificando estrutura do dataset:\")\n",
        "    !head -n 1 data/generated/Dataset-Unificado/metadata.csv\n",
        "\n",
        "    print(\"\\n🌍 Verificando idioma do dataset:\")\n",
        "    # Verificar coluna locale (posição 9 no CSV)\n",
        "    !cut -d',' -f9 data/generated/Dataset-Unificado/metadata.csv | head -n 5 | tail -n 4\n",
        "\n",
        "    print(\"\\n📊 Estatísticas do dataset:\")\n",
        "    total_lines = !wc -l data/generated/Dataset-Unificado/metadata.csv\n",
        "    print(f\"Total de amostras: {total_lines[0].split()[0]} linhas\")\n",
        "\n",
        "    # Verificar algumas amostras de texto\n",
        "    print(\"\\n📝 Amostras de texto (verificando inglês):\")\n",
        "    !cut -d',' -f18 data/generated/Dataset-Unificado/metadata.csv | head -n 4 | tail -n 3\n",
        "\n",
        "    print(\"\\n✅ Dataset em inglês restaurado com sucesso!\")\n",
        "else:\n",
        "    print(f\"❌ Dataset não encontrado em: {dataset_path}\")\n",
        "    print(\"   Verifique se o arquivo existe no Google Drive\")\n"
      ]
    },
    {
      "cell_type": "raw",
      "metadata": {
        "vscode": {
          "languageId": "raw"
        }
      },
      "source": [
        "### 🧪 Verificação e Teste do Sistema\n"
      ]
    },
    {
      "cell_type": "code",
      "execution_count": null,
      "metadata": {},
      "outputs": [],
      "source": [
        "# Verificação completa do sistema\n",
        "import os\n",
        "\n",
        "print(\"🔍 Verificação completa do sistema:\")\n",
        "print(f\"📁 Diretório atual: {os.getcwd()}\")\n",
        "\n",
        "# Verificar estrutura essencial\n",
        "essential_files = [\n",
        "    'scripts/train_vits2.py',\n",
        "    'configs/training/vits2_dataset_unificado.yaml',\n",
        "    'valetts/__init__.py'\n",
        "]\n",
        "\n",
        "print(\"\\n📋 Verificando arquivos essenciais:\")\n",
        "for file in essential_files:\n",
        "    if os.path.exists(file):\n",
        "        print(f\"✅ {file}\")\n",
        "    else:\n",
        "        print(f\"❌ {file} - FALTANDO\")\n",
        "\n",
        "# Verificar se o módulo valetts pode ser importado\n",
        "try:\n",
        "    import valetts\n",
        "    print(\"✅ Módulo valetts importado com sucesso\")\n",
        "except ImportError as e:\n",
        "    print(f\"⚠️  Erro ao importar valetts: {e}\")\n",
        "    print(\"   Adicionando diretório ao PYTHONPATH...\")\n",
        "    import sys\n",
        "    if os.getcwd() not in sys.path:\n",
        "        sys.path.insert(0, os.getcwd())\n",
        "    try:\n",
        "        import valetts\n",
        "        print(\"✅ Módulo valetts importado após ajuste do PATH\")\n",
        "    except ImportError as e2:\n",
        "        print(f\"❌ Ainda não conseguiu importar: {e2}\")\n",
        "\n",
        "# Testar script de treinamento\n",
        "if os.path.exists('scripts/train_vits2.py'):\n",
        "    print(\"\\n🧪 Testando sistema de treinamento...\")\n",
        "    !python scripts/train_vits2.py --help\n",
        "    print(\"\\n✅ Sistema funcionando corretamente!\")\n",
        "else:\n",
        "    print(\"\\n❌ Script de treinamento não encontrado!\")\n",
        "    print(\"   Listando conteúdo do diretório scripts:\")\n",
        "    !ls -la scripts/ 2>/dev/null || echo \"Diretório scripts não encontrado\"\n"
      ]
    },
    {
      "cell_type": "raw",
      "metadata": {
        "vscode": {
          "languageId": "raw"
        }
      },
      "source": [
        "---\n",
        "\n",
        "## 🎯 Treinamento VITS2 para Inglês\n",
        "\n",
        "**Execução do exato mesmo comando local:**\n",
        "```bash\n",
        "python scripts/train_vits2.py --config configs/training/vits2_english_dataset.yaml\n",
        "```\n",
        "\n",
        "**🌍 Configuração específica para inglês:**\n",
        "- Dataset: Dataset-Unificado (22.9K amostras em inglês)\n",
        "- Processamento: Phonemes em inglês com phonemizer\n",
        "- Textos de teste: 8 frases em inglês\n",
        "- Speakers: Detectados automaticamente do dataset\n"
      ]
    },
    {
      "cell_type": "raw",
      "metadata": {
        "vscode": {
          "languageId": "raw"
        }
      },
      "source": [
        "### 📋 Verificação e Revisão da Configuração\n"
      ]
    },
    {
      "cell_type": "code",
      "execution_count": null,
      "metadata": {},
      "outputs": [],
      "source": [
        "# Verificar e mostrar configuração que será usada (INGLÊS)\n",
        "import yaml\n",
        "import os\n",
        "\n",
        "config_file = 'configs/training/vits2_english_dataset.yaml'\n",
        "\n",
        "# Verificar se arquivo existe\n",
        "if not os.path.exists(config_file):\n",
        "    print(f\"❌ Arquivo de configuração não encontrado: {config_file}\")\n",
        "    print(\"📁 Arquivos disponíveis em configs/training/:\")\n",
        "    !ls -la configs/training/ 2>/dev/null || echo \"Diretório não encontrado\"\n",
        "else:\n",
        "    # Carregar configuração\n",
        "    with open(config_file, 'r') as f:\n",
        "        config = yaml.safe_load(f)\n",
        "\n",
        "    print(\"📋 Configuração do Treinamento:\")\n",
        "\n",
        "    # Função auxiliar para acessar chaves de forma segura\n",
        "    def safe_get(dictionary, keys, default=\"N/A\"):\n",
        "        try:\n",
        "            for key in keys:\n",
        "                dictionary = dictionary[key]\n",
        "            return dictionary\n",
        "        except (KeyError, TypeError):\n",
        "            return default\n",
        "\n",
        "    # Mostrar configurações principais\n",
        "    print(f\"   • Dataset Dir: {safe_get(config, ['data', 'data_dir'])}\")\n",
        "    print(f\"   • Metadata: {safe_get(config, ['data', 'metadata_file'])}\")\n",
        "    print(f\"   • Speakers: {safe_get(config, ['model', 'n_speakers'])}\")\n",
        "    print(f\"   • Epochs: {safe_get(config, ['training', 'max_epochs'])}\")\n",
        "    print(f\"   • Batch Size: {safe_get(config, ['training', 'batch_size'])}\")\n",
        "    print(f\"   • Learning Rate: {safe_get(config, ['training', 'learning_rate'])}\")\n",
        "    print(f\"   • Mixed Precision: {safe_get(config, ['training', 'use_amp'])}\")\n",
        "    print(f\"   • Sample Rate: {safe_get(config, ['data', 'sample_rate'])}\")\n",
        "    print(f\"   • Mel Channels: {safe_get(config, ['data', 'n_mels'])}\")\n",
        "\n",
        "    # Monitor LLM\n",
        "    if 'llm_monitor' in config and config['llm_monitor'].get('enabled', False):\n",
        "        print(f\"   • Monitor LLM: ✅ Ativado\")\n",
        "        print(f\"     - Modelo: {safe_get(config, ['llm_monitor', 'model'])}\")\n",
        "        print(f\"     - Monitor a cada: {safe_get(config, ['llm_monitor', 'monitor_every_epochs'])} épocas\")\n",
        "        print(f\"     - Provider: {safe_get(config, ['llm_monitor', 'provider'])}\")\n",
        "    else:\n",
        "        print(f\"   • Monitor LLM: ❌ Desabilitado\")\n",
        "\n",
        "    print(\"\\n🎯 Configuração carregada com sucesso!\")\n"
      ]
    },
    {
      "cell_type": "raw",
      "metadata": {
        "vscode": {
          "languageId": "raw"
        }
      },
      "source": [
        "### 🚀 Iniciar Treinamento\n"
      ]
    },
    {
      "cell_type": "code",
      "execution_count": null,
      "metadata": {},
      "outputs": [],
      "source": [
        "# 🎯 COMANDO EXATO DO AMBIENTE LOCAL (INGLÊS)\n",
        "# python scripts/train_vits2.py --config configs/training/vits2_english_dataset.yaml\n",
        "\n",
        "import os\n",
        "import sys\n",
        "\n",
        "# Garantir que o módulo valetts esteja no PYTHONPATH\n",
        "current_dir = os.getcwd()\n",
        "if current_dir not in sys.path:\n",
        "    sys.path.insert(0, current_dir)\n",
        "    print(f\"📁 Adicionado ao PYTHONPATH: {current_dir}\")\n",
        "\n",
        "# Verificar se o módulo valetts pode ser importado\n",
        "try:\n",
        "    import valetts\n",
        "    print(\"✅ Módulo valetts importado com sucesso\")\n",
        "    print(f\"   Localização: {valetts.__file__}\")\n",
        "except ImportError as e:\n",
        "    print(f\"❌ Erro ao importar valetts: {e}\")\n",
        "    print(\"🔧 Tentando ajustar imports...\")\n",
        "\n",
        "    # Verificar estrutura\n",
        "    print(\"\\n📋 Verificando estrutura:\")\n",
        "    !ls -la valetts/ 2>/dev/null || echo \"❌ Diretório valetts não encontrado\"\n",
        "    !ls -la valetts/models/ 2>/dev/null || echo \"❌ Diretório valetts/models não encontrado\"\n",
        "\n",
        "    # Tentar importar novamente\n",
        "    try:\n",
        "        import valetts\n",
        "        print(\"✅ Módulo valetts importado após ajustes\")\n",
        "    except ImportError as e2:\n",
        "        print(f\"❌ Ainda não conseguiu importar: {e2}\")\n",
        "        print(\"⚠️  Continuando com instalação manual...\")\n",
        "\n",
        "# Determinar se deve desabilitar LLM baseado na API key\n",
        "disable_llm = \"\" if os.environ.get('OPENROUTER_API_KEY') else \"--disable-llm\"\n",
        "\n",
        "print(\"\\n\" + \"=\"*50)\n",
        "print(\"🚀 Iniciando treinamento VITS2 para INGLÊS...\")\n",
        "print(f\"📁 Configuração: configs/training/vits2_english_dataset.yaml\")\n",
        "print(f\"🌍 Dataset: Dataset-Unificado (inglês, 22.9K amostras)\")\n",
        "print(f\"🔧 Monitor LLM: {'Ativado' if not disable_llm else 'Desabilitado'}\")\n",
        "print(f\"🎤 Geração de amostras: Ativada (textos em inglês)\")\n",
        "print(f\"🐍 Python path: {current_dir}\")\n",
        "print(\"=\"*50)\n",
        "\n",
        "# Executar treinamento com PYTHONPATH explícito\n",
        "os.environ['PYTHONPATH'] = current_dir\n",
        "!PYTHONPATH={current_dir} python scripts/train_vits2.py --config configs/training/vits2_english_dataset.yaml {disable_llm}\n"
      ]
    },
    {
      "cell_type": "markdown",
      "metadata": {},
      "source": []
    },
    {
      "cell_type": "markdown",
      "metadata": {},
      "source": []
    },
    {
      "cell_type": "markdown",
      "metadata": {},
      "source": []
    },
    {
      "cell_type": "code",
      "execution_count": null,
      "metadata": {},
      "outputs": [],
      "source": []
    },
    {
      "cell_type": "code",
      "execution_count": null,
      "metadata": {},
      "outputs": [],
      "source": []
    },
    {
      "cell_type": "code",
      "execution_count": null,
      "metadata": {},
      "outputs": [],
      "source": []
    },
    {
      "cell_type": "code",
      "execution_count": null,
      "metadata": {},
      "outputs": [],
      "source": []
    },
    {
      "cell_type": "code",
      "execution_count": null,
      "metadata": {},
      "outputs": [],
      "source": []
    },
    {
      "cell_type": "code",
      "execution_count": null,
      "metadata": {},
      "outputs": [],
      "source": []
    },
    {
      "cell_type": "code",
      "execution_count": null,
      "metadata": {},
      "outputs": [],
      "source": []
    },
    {
      "cell_type": "code",
      "execution_count": null,
      "metadata": {},
      "outputs": [],
      "source": []
    },
    {
      "cell_type": "code",
      "execution_count": null,
      "metadata": {},
      "outputs": [],
      "source": []
    },
    {
      "cell_type": "code",
      "execution_count": null,
      "metadata": {},
      "outputs": [],
      "source": [
        "# 🔧 BACKUP: Instalação manual do módulo valetts (se necessário)\n",
        "\n",
        "import subprocess\n",
        "import sys\n",
        "import os\n",
        "\n",
        "def install_valetts_module():\n",
        "    \"\"\"Instala o módulo valetts em modo de desenvolvimento\"\"\"\n",
        "    try:\n",
        "        # Tentar importar primeiro\n",
        "        import valetts\n",
        "        print(\"✅ Módulo valetts já está funcionando!\")\n",
        "        return True\n",
        "    except ImportError:\n",
        "        print(\"⚠️  Módulo valetts não encontrado. Instalando...\")\n",
        "\n",
        "        try:\n",
        "            # Instalar em modo de desenvolvimento\n",
        "            result = subprocess.run(\n",
        "                [sys.executable, \"-m\", \"pip\", \"install\", \"-e\", \".\"],\n",
        "                cwd=\"/content/ValeTTS\",\n",
        "                capture_output=True,\n",
        "                text=True\n",
        "            )\n",
        "\n",
        "            if result.returncode == 0:\n",
        "                print(\"✅ Módulo valetts instalado com sucesso!\")\n",
        "\n",
        "                # Verificar instalação\n",
        "                import valetts\n",
        "                print(f\"   Localização: {valetts.__file__}\")\n",
        "                return True\n",
        "            else:\n",
        "                print(f\"❌ Erro na instalação: {result.stderr}\")\n",
        "                return False\n",
        "\n",
        "        except Exception as e:\n",
        "            print(f\"❌ Erro durante instalação: {e}\")\n",
        "            return False\n",
        "\n",
        "# Executar verificação/instalação\n",
        "if not install_valetts_module():\n",
        "    print(\"\\n🚨 AVISO: Não foi possível instalar o módulo valetts automaticamente.\")\n",
        "    print(\"   Você pode tentar executar manualmente:\")\n",
        "    print(\"   !pip install -e .\")\n",
        "    print(\"   ou verificar se todos os arquivos foram extraídos corretamente.\")\n"
      ]
    },
    {
      "cell_type": "raw",
      "metadata": {
        "vscode": {
          "languageId": "raw"
        }
      },
      "source": [
        "---\n",
        "\n",
        "## 📊 Monitoramento do Treinamento\n",
        "\n",
        "### 📈 TensorBoard\n"
      ]
    },
    {
      "cell_type": "code",
      "execution_count": null,
      "metadata": {},
      "outputs": [],
      "source": [
        "# Carregar TensorBoard para monitoramento\n",
        "%load_ext tensorboard\n",
        "%tensorboard --logdir logs/tensorboard/ --port 6006\n"
      ]
    },
    {
      "cell_type": "raw",
      "metadata": {
        "vscode": {
          "languageId": "raw"
        }
      },
      "source": [
        "### 🛠️ Utilitários\n"
      ]
    },
    {
      "cell_type": "code",
      "execution_count": null,
      "metadata": {},
      "outputs": [],
      "source": [
        "# Verificar progresso do treinamento\n",
        "print(\"📊 Status do Treinamento:\")\n",
        "!ls -la logs/\n",
        "\n",
        "print(\"\\n📁 Checkpoints:\")\n",
        "!find logs/ -name \"*.ckpt\" | tail -5\n",
        "\n",
        "print(\"\\n📈 Logs mais recentes:\")\n",
        "!tail -10 logs/training.log 2>/dev/null || echo \"Log não encontrado ainda\"\n"
      ]
    },
    {
      "cell_type": "code",
      "execution_count": null,
      "metadata": {},
      "outputs": [],
      "source": [
        "# Backup de modelos para Google Drive\n",
        "import os\n",
        "from shutil import copytree, ignore_patterns\n",
        "\n",
        "backup_dir = \"/content/drive/MyDrive/ValeTTS-Colab/training_backup\"\n",
        "\n",
        "if os.path.exists(\"logs/\"):\n",
        "    print(\"💾 Fazendo backup dos logs e checkpoints...\")\n",
        "    !mkdir -p \"{backup_dir}\"\n",
        "    !cp -r logs/ \"{backup_dir}/\" 2>/dev/null || echo \"Backup parcial realizado\"\n",
        "    print(f\"✅ Backup salvo em: {backup_dir}\")\n",
        "else:\n",
        "    print(\"ℹ️  Nenhum log encontrado para backup\")\n"
      ]
    },
    {
      "cell_type": "raw",
      "metadata": {
        "vscode": {
          "languageId": "raw"
        }
      },
      "source": [
        "---\n",
        "\n",
        "## 🎵 Geração e Reprodução de Amostras de Áudio\n",
        "\n",
        "### 📊 Verificar Amostras Geradas\n"
      ]
    },
    {
      "cell_type": "code",
      "execution_count": null,
      "metadata": {},
      "outputs": [],
      "source": [
        "# 🎵 EXPLORAR AMOSTRAS DE ÁUDIO GERADAS DURANTE O TREINAMENTO\n",
        "\n",
        "import os\n",
        "import glob\n",
        "import json\n",
        "from IPython.display import Audio, display, HTML\n",
        "from pathlib import Path\n",
        "\n",
        "def explore_generated_samples():\n",
        "    \"\"\"Explora e lista amostras de áudio geradas durante o treinamento.\"\"\"\n",
        "\n",
        "    samples_dir = Path(\"samples\")\n",
        "\n",
        "    if not samples_dir.exists():\n",
        "        print(\"⚠️  Diretório 'samples' não encontrado.\")\n",
        "        print(\"   As amostras são geradas automaticamente durante o treinamento.\")\n",
        "        print(\"   Execute o treinamento primeiro para ver amostras aqui.\")\n",
        "        return\n",
        "\n",
        "    # Listar épocas disponíveis\n",
        "    epoch_dirs = sorted([d for d in samples_dir.iterdir() if d.is_dir() and d.name.startswith(\"epoch_\")])\n",
        "\n",
        "    if not epoch_dirs:\n",
        "        print(\"📂 Diretório samples existe, mas não há épocas com amostras ainda.\")\n",
        "        print(\"   As amostras serão geradas conforme o treinamento progride.\")\n",
        "        return\n",
        "\n",
        "    print(f\"🎵 Encontradas amostras de {len(epoch_dirs)} épocas!\")\n",
        "    print(\"\\n📁 Épocas disponíveis:\")\n",
        "\n",
        "    for epoch_dir in epoch_dirs[-5:]:  # Mostrar últimas 5 épocas\n",
        "        epoch_num = epoch_dir.name.split(\"_\")[1]\n",
        "        audio_files = list(epoch_dir.glob(\"*.wav\"))\n",
        "        print(f\"   📊 Época {epoch_num}: {len(audio_files)} amostras\")\n",
        "\n",
        "    # Mostrar detalhes da época mais recente\n",
        "    if epoch_dirs:\n",
        "        latest_epoch = epoch_dirs[-1]\n",
        "        epoch_num = latest_epoch.name.split(\"_\")[1]\n",
        "\n",
        "        print(f\"\\n🎯 ÉPOCA MAIS RECENTE: {epoch_num}\")\n",
        "        print(f\"📁 Diretório: {latest_epoch}\")\n",
        "\n",
        "        # Verificar resumo da época\n",
        "        summary_file = latest_epoch / \"samples_summary.json\"\n",
        "        if summary_file.exists():\n",
        "            with open(summary_file, 'r') as f:\n",
        "                summary = json.load(f)\n",
        "\n",
        "            print(f\"📋 Resumo:\")\n",
        "            print(f\"   🕐 Timestamp: {summary.get('timestamp', 'N/A')}\")\n",
        "            print(f\"   🎤 Total de amostras: {summary.get('total_samples', 0)}\")\n",
        "            print(f\"   🌍 Idioma: {summary.get('language', 'N/A')}\")\n",
        "            print(f\"   👥 Speakers usados: {summary.get('speakers_used', 0)}\")\n",
        "\n",
        "        # Listar arquivos de áudio\n",
        "        audio_files = sorted(latest_epoch.glob(\"*.wav\"))\n",
        "        if audio_files:\n",
        "            print(f\"\\n🎶 Arquivos de áudio ({len(audio_files)}):\")\n",
        "            for audio_file in audio_files:\n",
        "                print(f\"   🔊 {audio_file.name}\")\n",
        "\n",
        "        return latest_epoch, audio_files\n",
        "\n",
        "    return None, []\n",
        "\n",
        "# Executar exploração\n",
        "latest_epoch, audio_files = explore_generated_samples()\n"
      ]
    },
    {
      "cell_type": "raw",
      "metadata": {
        "vscode": {
          "languageId": "raw"
        }
      },
      "source": [
        "### 🎧 Reproduzir Amostras de Áudio\n"
      ]
    },
    {
      "cell_type": "code",
      "execution_count": null,
      "metadata": {},
      "outputs": [],
      "source": [
        "# 🎧 REPRODUZIR AMOSTRAS DE ÁUDIO NO COLAB\n",
        "\n",
        "def play_audio_samples(epoch_dir=None, max_samples=5):\n",
        "    \"\"\"Reproduz amostras de áudio no Colab com interface interativa.\"\"\"\n",
        "\n",
        "    if epoch_dir is None:\n",
        "        # Usar época mais recente\n",
        "        samples_dir = Path(\"samples\")\n",
        "        if not samples_dir.exists():\n",
        "            print(\"⚠️  Nenhuma amostra encontrada. Execute o treinamento primeiro.\")\n",
        "            return\n",
        "\n",
        "        epoch_dirs = sorted([d for d in samples_dir.iterdir() if d.is_dir() and d.name.startswith(\"epoch_\")])\n",
        "        if not epoch_dirs:\n",
        "            print(\"⚠️  Nenhuma época com amostras encontrada.\")\n",
        "            return\n",
        "\n",
        "        epoch_dir = epoch_dirs[-1]\n",
        "\n",
        "    epoch_num = epoch_dir.name.split(\"_\")[1]\n",
        "    print(f\"🎵 REPRODUZINDO AMOSTRAS DA ÉPOCA {epoch_num}\")\n",
        "    print(\"=\" * 50)\n",
        "\n",
        "    # Buscar arquivos de áudio\n",
        "    audio_files = sorted(epoch_dir.glob(\"*.wav\"))\n",
        "\n",
        "    if not audio_files:\n",
        "        print(\"⚠️  Nenhum arquivo de áudio encontrado nesta época.\")\n",
        "        return\n",
        "\n",
        "    # Carregar resumo se disponível\n",
        "    summary_file = epoch_dir / \"samples_summary.json\"\n",
        "    sample_metadata = {}\n",
        "\n",
        "    if summary_file.exists():\n",
        "        with open(summary_file, 'r') as f:\n",
        "            summary = json.load(f)\n",
        "\n",
        "        # Criar dicionário de metadados por arquivo\n",
        "        for sample in summary.get('samples', []):\n",
        "            audio_path = Path(sample['audio_path'])\n",
        "            sample_metadata[audio_path.name] = sample\n",
        "\n",
        "    # Reproduzir amostras\n",
        "    played_count = 0\n",
        "    for audio_file in audio_files[:max_samples]:\n",
        "        if played_count >= max_samples:\n",
        "            break\n",
        "\n",
        "        print(f\"\\n🔊 {audio_file.name}\")\n",
        "\n",
        "        # Mostrar metadados se disponíveis\n",
        "        if audio_file.name in sample_metadata:\n",
        "            metadata = sample_metadata[audio_file.name]\n",
        "            print(f\"   📝 Texto: {metadata['text']}\")\n",
        "            print(f\"   🎤 Speaker: {metadata['speaker_name']} ({metadata['speaker_id']})\")\n",
        "            if 'metadata' in metadata and 'audio_length_seconds' in metadata['metadata']:\n",
        "                duration = metadata['metadata']['audio_length_seconds']\n",
        "                print(f\"   ⏱️  Duração: {duration:.2f}s\")\n",
        "\n",
        "        # Reproduzir áudio\n",
        "        try:\n",
        "            audio_widget = Audio(str(audio_file), autoplay=False)\n",
        "            display(audio_widget)\n",
        "            played_count += 1\n",
        "\n",
        "        except Exception as e:\n",
        "            print(f\"   ❌ Erro ao carregar áudio: {e}\")\n",
        "\n",
        "    if len(audio_files) > max_samples:\n",
        "        remaining = len(audio_files) - max_samples\n",
        "        print(f\"\\n📊 Mostrando {max_samples} de {len(audio_files)} amostras.\")\n",
        "        print(f\"   (+{remaining} amostras adicionais disponíveis)\")\n",
        "\n",
        "    print(f\"\\n✅ Reprodução concluída! {played_count} amostras carregadas.\")\n",
        "\n",
        "# Reproduzir amostras se disponíveis\n",
        "if 'latest_epoch' in locals() and latest_epoch:\n",
        "    play_audio_samples(latest_epoch, max_samples=3)\n",
        "else:\n",
        "    print(\"🎯 Execute a célula anterior primeiro para encontrar amostras disponíveis.\")\n",
        "    print(\"   Ou rode esta célula após o treinamento ter gerado algumas amostras.\")\n"
      ]
    },
    {
      "cell_type": "raw",
      "metadata": {
        "vscode": {
          "languageId": "raw"
        }
      },
      "source": [
        "### 💾 Backup de Amostras para Google Drive\n"
      ]
    },
    {
      "cell_type": "code",
      "execution_count": null,
      "metadata": {},
      "outputs": [],
      "source": [
        "# 💾 BACKUP DE AMOSTRAS DE ÁUDIO PARA GOOGLE DRIVE\n",
        "\n",
        "import shutil\n",
        "from pathlib import Path\n",
        "\n",
        "def backup_audio_samples_to_drive():\n",
        "    \"\"\"Faz backup das amostras geradas para o Google Drive.\"\"\"\n",
        "\n",
        "    samples_dir = Path(\"samples\")\n",
        "    backup_base = Path(\"/content/drive/MyDrive/ValeTTS-Colab\")\n",
        "    backup_samples_dir = backup_base / \"audio_samples\"\n",
        "\n",
        "    if not samples_dir.exists():\n",
        "        print(\"⚠️  Diretório 'samples' não encontrado.\")\n",
        "        print(\"   Execute o treinamento primeiro para gerar amostras.\")\n",
        "        return False\n",
        "\n",
        "    # Criar diretório de backup\n",
        "    backup_samples_dir.mkdir(parents=True, exist_ok=True)\n",
        "\n",
        "    # Contar épocas e amostras\n",
        "    epoch_dirs = sorted([d for d in samples_dir.iterdir() if d.is_dir() and d.name.startswith(\"epoch_\")])\n",
        "\n",
        "    if not epoch_dirs:\n",
        "        print(\"📂 Diretório samples existe, mas não há épocas para fazer backup.\")\n",
        "        return False\n",
        "\n",
        "    print(f\"💾 Fazendo backup de {len(epoch_dirs)} épocas para Google Drive...\")\n",
        "    print(f\"📁 Destino: {backup_samples_dir}\")\n",
        "\n",
        "    total_files = 0\n",
        "    total_size = 0\n",
        "\n",
        "    for epoch_dir in epoch_dirs:\n",
        "        epoch_backup_dir = backup_samples_dir / epoch_dir.name\n",
        "\n",
        "        try:\n",
        "            # Copiar época inteira\n",
        "            if epoch_backup_dir.exists():\n",
        "                shutil.rmtree(epoch_backup_dir)\n",
        "\n",
        "            shutil.copytree(epoch_dir, epoch_backup_dir)\n",
        "\n",
        "            # Contar arquivos\n",
        "            audio_files = list(epoch_backup_dir.glob(\"*.wav\"))\n",
        "            epoch_size = sum(f.stat().st_size for f in epoch_backup_dir.rglob(\"*\") if f.is_file())\n",
        "\n",
        "            total_files += len(audio_files)\n",
        "            total_size += epoch_size\n",
        "\n",
        "            print(f\"   ✅ {epoch_dir.name}: {len(audio_files)} amostras ({epoch_size/1024/1024:.1f} MB)\")\n",
        "\n",
        "        except Exception as e:\n",
        "            print(f\"   ❌ Erro no backup de {epoch_dir.name}: {e}\")\n",
        "\n",
        "    print(f\"\\n📊 BACKUP CONCLUÍDO:\")\n",
        "    print(f\"   🎵 Total de amostras: {total_files}\")\n",
        "    print(f\"   💾 Tamanho total: {total_size/1024/1024:.1f} MB\")\n",
        "    print(f\"   📁 Salvo em: {backup_samples_dir}\")\n",
        "\n",
        "    # Criar arquivo de índice\n",
        "    index_file = backup_samples_dir / \"index.txt\"\n",
        "    with open(index_file, 'w') as f:\n",
        "        f.write(f\"ValeTTS Audio Samples Backup\\\\n\")\n",
        "        f.write(f\"Generated: {Path.cwd()}\\\\n\")\n",
        "        f.write(f\"Total epochs: {len(epoch_dirs)}\\\\n\")\n",
        "        f.write(f\"Total samples: {total_files}\\\\n\")\n",
        "        f.write(f\"Total size: {total_size/1024/1024:.1f} MB\\\\n\\\\n\")\n",
        "\n",
        "        for epoch_dir in epoch_dirs:\n",
        "            epoch_backup_dir = backup_samples_dir / epoch_dir.name\n",
        "            if epoch_backup_dir.exists():\n",
        "                audio_files = list(epoch_backup_dir.glob(\"*.wav\"))\n",
        "                f.write(f\"{epoch_dir.name}: {len(audio_files)} samples\\\\n\")\n",
        "\n",
        "    print(f\"   📋 Índice salvo: {index_file}\")\n",
        "\n",
        "    return True\n",
        "\n",
        "# Executar backup se há amostras disponíveis\n",
        "if Path(\"samples\").exists():\n",
        "    backup_success = backup_audio_samples_to_drive()\n",
        "\n",
        "    if backup_success:\n",
        "        print(\"\\\\n🎉 BACKUP CONCLUÍDO COM SUCESSO!\")\n",
        "        print(\"   Suas amostras de áudio estão seguras no Google Drive.\")\n",
        "        print(\"   Você pode baixá-las ou acessá-las diretamente do Drive.\")\n",
        "    else:\n",
        "        print(\"\\\\n⚠️  Backup não foi necessário ou falhou.\")\n",
        "else:\n",
        "    print(\"📝 Backup será executado automaticamente quando houver amostras disponíveis.\")\n",
        "    print(\"   Execute o treinamento primeiro para gerar amostras de áudio.\")\n"
      ]
    },
    {
      "cell_type": "raw",
      "metadata": {
        "vscode": {
          "languageId": "raw"
        }
      },
      "source": [
        "---\n",
        "\n",
        "## ℹ️ Informações Importantes\n",
        "\n",
        "### 🎯 Performance Esperada no Colab:\n",
        "- **T4 GPU**: ~1-2 it/s (25-50x mais rápido que CPU local)\n",
        "- **P100 GPU**: ~2-3 it/s (50-75x mais rápido)\n",
        "- **V100 GPU**: ~3-5 it/s (75-125x mais rápido)\n",
        "- **A100 GPU**: ~5-8 it/s (125-200x mais rápido)\n",
        "\n",
        "### 📋 Configuração Atual:\n",
        "- **Dataset**: Dataset-Unificado (~2.5GB, ~23K samples)\n",
        "- **Modelo**: VITS2 multi-speaker (52 speakers)\n",
        "- **Épocas**: 200 epochs\n",
        "- **Batch Size**: 12\n",
        "- **Mixed Precision**: Ativado\n",
        "\n",
        "### 🔧 Monitor LLM:\n",
        "- **Análise inteligente**: A cada 5 épocas\n",
        "- **Ajustes automáticos**: Learning rate, batch size\n",
        "- **Aprovação humana**: Para mudanças críticas\n",
        "\n",
        "### 💾 Backups Automáticos:\n",
        "- Logs salvos em: `MeuDrive/ValeTTS-Colab/training_backup/`\n",
        "- Checkpoints preservados automaticamente\n",
        "- Configuração dinâmica salva\n",
        "\n",
        "---\n",
        "\n",
        "**🎉 Sistema 100% idêntico ao ambiente local - Pronto para produção!**\n"
      ]
    },
    {
      "cell_type": "raw",
      "metadata": {},
      "source": []
    }
  ],
  "metadata": {
    "language_info": {
      "name": "python"
    }
  },
  "nbformat": 4,
  "nbformat_minor": 2
}
